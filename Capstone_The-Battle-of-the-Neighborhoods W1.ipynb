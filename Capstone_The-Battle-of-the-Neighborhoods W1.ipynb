{
 "cells": [
  {
   "cell_type": "markdown",
   "id": "58c65bfc-e96b-400d-9c56-b65cdb0fdfcb",
   "metadata": {},
   "source": [
    "# Problem Statement\n",
    "## Introduction\n",
    "When we are thinking about New York it is well known that the diversity in this city is one of the greatest in the world. This provides a great potential to new investors and as the diversity is great, the openness to new things is greater.\n",
    "\n",
    "With a population of around 9 million, it did not have a great impact also during the COVID 19 pandemics. People are still open to new things, there is no fear from different and there is still a huge potential compared to other US cities / states.\n",
    "\n",
    "In this final project we want to find the best location for German restaurants in New York and as there is a great immigration background, especially from Europe, there is great potential seen in this segment. We could find the tendency that European, especially Eastern European or Mediteranean restaurants are performing the best.\n",
    "\n",
    "With a German place to eat out, we want to invest relatively safe but at the same time provide something different\n",
    "\n",
    "## Data\n",
    "To analyze the best place to invest in, the data on New York City neighborhoods, boroughs to include boundaries, latitude, longitude, restaurants, and restaurant ratings and tips are required.\n",
    "\n",
    "New York City data containing the neighborhoods and boroughs, latitudes, and longitudes will be obtained from the data source: https://cocl.us/new_york_dataset\n",
    "\n",
    "All data related to locations and quality of Italian restaurants will be obtained via the FourSquare API utilized via the Request library in Python.\n",
    "\n",
    "## Methodology\n",
    "• Data will be collected from https://cocl.us/new_york_dataset and cleaned and processed into a dataframe.\n",
    "\n",
    "• FourSquare be used to locate all venues and then filtered by German restaurants. Ratings, tips, and likes by users will be counted and added to the dataframe.\n",
    "\n",
    "• Finally, the data be will be visually assessed using graphing from Python libraries.\n",
    "\n",
    "## Problem Statement\n",
    "What is the best location for German cuisine in New York City? In what Neighborhood should we invest in order to have the best potential in success? Where would I go in New York City to have the best German food?\n",
    "\n",
    "The objective is to locate and recommend to the client which neighbourhood in New York City will be best choice to start a restaurant.\n",
    "\n",
    "## Target Audience\n",
    "As mentioned above, this would be relevant for all the ones that enjoy new food, are open to other cultures and all the German food loving enthusiasts. New York is not only the people living there but all the ones that are fluctuating during the day, employees, tourists, travelers... "
   ]
  },
  {
   "cell_type": "code",
   "execution_count": null,
   "id": "86d00916-238a-4c54-99da-ba524c053902",
   "metadata": {},
   "outputs": [],
   "source": []
  }
 ],
 "metadata": {
  "kernelspec": {
   "display_name": "Python",
   "language": "python",
   "name": "conda-env-python-py"
  },
  "language_info": {
   "codemirror_mode": {
    "name": "ipython",
    "version": 3
   },
   "file_extension": ".py",
   "mimetype": "text/x-python",
   "name": "python",
   "nbconvert_exporter": "python",
   "pygments_lexer": "ipython3",
   "version": "3.6.13"
  }
 },
 "nbformat": 4,
 "nbformat_minor": 5
}
