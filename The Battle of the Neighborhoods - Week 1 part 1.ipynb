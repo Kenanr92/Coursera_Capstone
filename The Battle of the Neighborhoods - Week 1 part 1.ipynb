{
 "cells": [
  {
   "cell_type": "markdown",
   "id": "869a73c4-1564-4d3b-9bc2-ab37cc3abfb8",
   "metadata": {},
   "source": [
    "# The Battle of the Neighborhoods - Week 1\n",
    "## Introduction & Business Problem :\n",
    "### Problem Background:\n",
    "The City of Sarajevo, is the most populous city in the Bosnia and Herzegovina. It is diverse and is the financial capital of this country. It provides lot of business opportunities and business friendly environment. It has attracted many different players into the market. The great tradition that is in this city provides great opportunity for opening a restaurant\n",
    "\n",
    "All of the above mentioned information shows that the market is highly competitive. As it is highly developed city so cost of doing business is also one of the highest. Thus, any new business venture or expansion needs to be analyzed carefully. The insights derived from analysis will give good understanding of the business environment which help in strategically targeting the market. This will help in reduction of risk. And the Return on Investment will be reasonable.\n",
    "\n",
    "### Problem Description:\n",
    "A restaurant is a business which prepares and serves food and drink to customers in return for money, either paid before the meal, after the meal, or with an open account. The City of Sarajevo is famous for the great cousine and food for every person.\n",
    "\n",
    "The combination of Continental and Oriental atmosphere, due to its long history, is providing a great mix which is attractive to many tourists and also locals. The most famous is cevapcici, other meat food, sarma, dolma, many delicious delicatessen and potentially offer of Hookas can provide a great combination\n",
    "\n",
    "\n",
    "So it is evident that to survive in such competitive market it is very important to strategically plan. Various factors need to be studied in order to decide on the Location such as :\n",
    "\n",
    "Sarajevo Population\n",
    "Sarajevo Demographics\n",
    "Are there any Farmers Markets, Wholesale markets etc nearby so that the ingredients can be purchased fresh to maintain quality and cost?\n",
    "Are there any venues like Gyms, Entertainment zones, Parks etc nearby where floating population is high etc\n",
    "Who are the competitors in that location?\n",
    "Cuisine served / Menu of the competitors\n",
    "Which season is the best\n",
    "Untapped markets\n",
    "Saturated markets etc\n",
    "Even though well funded Juka Company Ltd. need to choose the correct location to start its first venture.If this is successful they can replicate the same in other locations. First move is very important, thereby choice of location is very important.\n",
    "\n",
    "### Target Audience:\n",
    "To recommend the correct location, Juka Company Ltd has appointed me to lead of the Data Science team. The objective is to locate and recommend to the management which neighborhood of Sarajevo will be best choice to start a restaurant. The Management also expects to understand the rationale of the recommendations made.\n",
    "\n",
    "This would interest anyone who wants to start a new restaurant in Sarajevo.\n",
    "\n",
    "### Success Criteria:\n",
    "The success criteria of the project will be a good recommendation of a Neighborhood choice to Juka Company Ltd. This can be focused on a Lack of such places in that location and nearest suppliers of ingredients. Other components might also be integrated such as whether people would prefer traditional street food or some other european / western food"
   ]
  },
  {
   "cell_type": "code",
   "execution_count": null,
   "id": "e67f2c57-8c0a-446c-b9f7-e53176ac2c75",
   "metadata": {},
   "outputs": [],
   "source": []
  }
 ],
 "metadata": {
  "kernelspec": {
   "display_name": "Python",
   "language": "python",
   "name": "conda-env-python-py"
  },
  "language_info": {
   "codemirror_mode": {
    "name": "ipython",
    "version": 3
   },
   "file_extension": ".py",
   "mimetype": "text/x-python",
   "name": "python",
   "nbconvert_exporter": "python",
   "pygments_lexer": "ipython3",
   "version": "3.6.13"
  }
 },
 "nbformat": 4,
 "nbformat_minor": 5
}
