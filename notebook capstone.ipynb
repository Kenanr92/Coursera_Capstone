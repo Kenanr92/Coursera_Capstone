{
 "cells": [
  {
   "cell_type": "markdown",
   "id": "5ff4e9f3-5b73-40fa-aaae-1900368fabf9",
   "metadata": {},
   "source": [
    "This part will be mainly used by the final capstone part of the coursera course"
   ]
  },
  {
   "cell_type": "code",
   "execution_count": 1,
   "id": "cd45d515-7b15-43a9-95fc-50df8a53d08c",
   "metadata": {},
   "outputs": [],
   "source": [
    "\n",
    "import pandas as pd\n",
    "import numpy as np"
   ]
  },
  {
   "cell_type": "code",
   "execution_count": 2,
   "id": "47f1ae56-7e8c-46da-9475-cc783baa6671",
   "metadata": {},
   "outputs": [
    {
     "name": "stdout",
     "output_type": "stream",
     "text": [
      "Hello Capstone Project Course!\n"
     ]
    }
   ],
   "source": [
    "print(\"Hello Capstone Project Course!\")"
   ]
  },
  {
   "cell_type": "code",
   "execution_count": null,
   "id": "965240a1-2c9d-4a58-b377-e1e96b855865",
   "metadata": {},
   "outputs": [],
   "source": []
  }
 ],
 "metadata": {
  "kernelspec": {
   "display_name": "Python",
   "language": "python",
   "name": "conda-env-python-py"
  },
  "language_info": {
   "codemirror_mode": {
    "name": "ipython",
    "version": 3
   },
   "file_extension": ".py",
   "mimetype": "text/x-python",
   "name": "python",
   "nbconvert_exporter": "python",
   "pygments_lexer": "ipython3",
   "version": "3.6.13"
  }
 },
 "nbformat": 4,
 "nbformat_minor": 5
}
